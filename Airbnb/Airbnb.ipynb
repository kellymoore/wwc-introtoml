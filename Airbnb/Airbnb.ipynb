{
 "cells": [
  {
   "cell_type": "markdown",
   "metadata": {},
   "source": [
    "# Airbnb Room Price Predicition \n",
    "\n",
    "### Washington DC"
   ]
  },
  {
   "cell_type": "code",
   "execution_count": 1,
   "metadata": {
    "collapsed": true
   },
   "outputs": [],
   "source": [
    "import pandas as pd\n",
    "import numpy as np\n",
    "import matplotlib.pyplot as plt\n",
    "%matplotlib inline\n",
    "\n",
    "import sklearn.metrics as metrics\n",
    "from sklearn.linear_model import LinearRegression\n",
    "from sklearn.model_selection import train_test_split"
   ]
  },
  {
   "cell_type": "markdown",
   "metadata": {},
   "source": [
    "### Load in Dataset with Pandas"
   ]
  },
  {
   "cell_type": "code",
   "execution_count": 2,
   "metadata": {},
   "outputs": [
    {
     "data": {
      "text/html": [
       "<div>\n",
       "<style>\n",
       "    .dataframe thead tr:only-child th {\n",
       "        text-align: right;\n",
       "    }\n",
       "\n",
       "    .dataframe thead th {\n",
       "        text-align: left;\n",
       "    }\n",
       "\n",
       "    .dataframe tbody tr th {\n",
       "        vertical-align: top;\n",
       "    }\n",
       "</style>\n",
       "<table border=\"1\" class=\"dataframe\">\n",
       "  <thead>\n",
       "    <tr style=\"text-align: right;\">\n",
       "      <th></th>\n",
       "      <th>neighbourhood</th>\n",
       "      <th>room_type</th>\n",
       "      <th>accommodates</th>\n",
       "      <th>bedrooms</th>\n",
       "      <th>beds</th>\n",
       "      <th>price</th>\n",
       "      <th>availability_30</th>\n",
       "      <th>number_of_reviews</th>\n",
       "      <th>review_scores_rating</th>\n",
       "      <th>instant_bookable</th>\n",
       "      <th>cancellation_policy</th>\n",
       "      <th>reviews_per_month</th>\n",
       "    </tr>\n",
       "  </thead>\n",
       "  <tbody>\n",
       "    <tr>\n",
       "      <th>0</th>\n",
       "      <td>Capitol View, Marshall Heights, Benning Heights</td>\n",
       "      <td>Private room</td>\n",
       "      <td>2</td>\n",
       "      <td>1</td>\n",
       "      <td>1</td>\n",
       "      <td>38</td>\n",
       "      <td>25</td>\n",
       "      <td>1</td>\n",
       "      <td>100</td>\n",
       "      <td>t</td>\n",
       "      <td>moderate</td>\n",
       "      <td>1.00</td>\n",
       "    </tr>\n",
       "    <tr>\n",
       "      <th>1</th>\n",
       "      <td>Takoma, Brightwood, Manor Park</td>\n",
       "      <td>Private room</td>\n",
       "      <td>2</td>\n",
       "      <td>1</td>\n",
       "      <td>1</td>\n",
       "      <td>71</td>\n",
       "      <td>17</td>\n",
       "      <td>4</td>\n",
       "      <td>90</td>\n",
       "      <td>t</td>\n",
       "      <td>flexible</td>\n",
       "      <td>0.33</td>\n",
       "    </tr>\n",
       "    <tr>\n",
       "      <th>2</th>\n",
       "      <td>Colonial Village, Shepherd Park, North Portal ...</td>\n",
       "      <td>Entire home/apt</td>\n",
       "      <td>1</td>\n",
       "      <td>1</td>\n",
       "      <td>1</td>\n",
       "      <td>55</td>\n",
       "      <td>0</td>\n",
       "      <td>1</td>\n",
       "      <td>100</td>\n",
       "      <td>f</td>\n",
       "      <td>strict</td>\n",
       "      <td>1.00</td>\n",
       "    </tr>\n",
       "    <tr>\n",
       "      <th>3</th>\n",
       "      <td>Lamont Riggs, Queens Chapel, Fort Totten, Plea...</td>\n",
       "      <td>Private room</td>\n",
       "      <td>2</td>\n",
       "      <td>1</td>\n",
       "      <td>1</td>\n",
       "      <td>60</td>\n",
       "      <td>26</td>\n",
       "      <td>2</td>\n",
       "      <td>90</td>\n",
       "      <td>t</td>\n",
       "      <td>flexible</td>\n",
       "      <td>0.43</td>\n",
       "    </tr>\n",
       "    <tr>\n",
       "      <th>4</th>\n",
       "      <td>Woodridge, Fort Lincoln, Gateway</td>\n",
       "      <td>Private room</td>\n",
       "      <td>2</td>\n",
       "      <td>1</td>\n",
       "      <td>1</td>\n",
       "      <td>52</td>\n",
       "      <td>24</td>\n",
       "      <td>1</td>\n",
       "      <td>80</td>\n",
       "      <td>f</td>\n",
       "      <td>flexible</td>\n",
       "      <td>1.00</td>\n",
       "    </tr>\n",
       "  </tbody>\n",
       "</table>\n",
       "</div>"
      ],
      "text/plain": [
       "                                       neighbourhood        room_type  \\\n",
       "0    Capitol View, Marshall Heights, Benning Heights     Private room   \n",
       "1                     Takoma, Brightwood, Manor Park     Private room   \n",
       "2  Colonial Village, Shepherd Park, North Portal ...  Entire home/apt   \n",
       "3  Lamont Riggs, Queens Chapel, Fort Totten, Plea...     Private room   \n",
       "4                   Woodridge, Fort Lincoln, Gateway     Private room   \n",
       "\n",
       "   accommodates  bedrooms  beds  price  availability_30  number_of_reviews  \\\n",
       "0             2         1     1     38               25                  1   \n",
       "1             2         1     1     71               17                  4   \n",
       "2             1         1     1     55                0                  1   \n",
       "3             2         1     1     60               26                  2   \n",
       "4             2         1     1     52               24                  1   \n",
       "\n",
       "   review_scores_rating instant_bookable cancellation_policy  \\\n",
       "0                   100                t            moderate   \n",
       "1                    90                t            flexible   \n",
       "2                   100                f              strict   \n",
       "3                    90                t            flexible   \n",
       "4                    80                f            flexible   \n",
       "\n",
       "   reviews_per_month  \n",
       "0               1.00  \n",
       "1               0.33  \n",
       "2               1.00  \n",
       "3               0.43  \n",
       "4               1.00  "
      ]
     },
     "execution_count": 2,
     "metadata": {},
     "output_type": "execute_result"
    }
   ],
   "source": [
    "listings_csv = 'airbnb_listings_cleaned.csv'\n",
    "\n",
    "# read the file into a dataframe\n",
    "df = pd.read_csv(listings_csv)\n",
    "\n",
    "#Peak at the first 5 rows \n",
    "df.head()"
   ]
  },
  {
   "cell_type": "markdown",
   "metadata": {},
   "source": [
    "Can see we have various features about a Airbnb room, most of which have numeric values. *room type* and *cancellation policy* look to have only a few types of values, which we could assign numbers to, making it easier for the model to interpret. However, *neighbourhood* looks to have a lot of different values. Lets take a look at the ammount of unique values in this column: "
   ]
  },
  {
   "cell_type": "code",
   "execution_count": 3,
   "metadata": {},
   "outputs": [
    {
     "data": {
      "text/plain": [
       "Columbia Heights, Mt. Pleasant, Pleasant Plains, Park View                                           238\n",
       "Dupont Circle, Connecticut Avenue/K Street                                                           214\n",
       "Union Station, Stanton Park, Kingman Park                                                            172\n",
       "Shaw, Logan Circle                                                                                   156\n",
       "Edgewood, Bloomingdale, Truxton Circle, Eckington                                                    149\n",
       "Capitol Hill, Lincoln Park                                                                           143\n",
       "Kalorama Heights, Adams Morgan, Lanier Heights                                                       126\n",
       "Brightwood Park, Crestwood, Petworth                                                                 104\n",
       "Downtown, Chinatown, Penn Quarters, Mount Vernon Square, North Capitol Street                         94\n",
       "Howard University, Le Droit Park, Cardozo/Shaw                                                        77\n",
       "Georgetown, Burleith/Hillandale                                                                       53\n",
       "West End, Foggy Bottom, GWU                                                                           46\n",
       "Southwest Employment Area, Southwest/Waterfront, Fort McNair, Buzzard Point                           45\n",
       "Ivy City, Arboretum, Trinidad, Carver Langston                                                        38\n",
       "Cathedral Heights, McLean Gardens, Glover Park                                                        34\n",
       "Takoma, Brightwood, Manor Park                                                                        34\n",
       "Brookland, Brentwood, Langdon                                                                         28\n",
       "Cleveland Park, Woodley Park, Massachusetts Avenue Heights, Woodland-Normanstone Terrace              27\n",
       "North Michigan Park, Michigan Park, University Heights                                                23\n",
       "Historic Anacostia                                                                                    23\n",
       "Spring Valley, Palisades, Wesley Heights, Foxhall Crescent, Foxhall Village, Georgetown Reservoir     18\n",
       "Friendship Heights, American University Park, Tenleytown                                              17\n",
       "Colonial Village, Shepherd Park, North Portal Estates                                                 15\n",
       "North Cleveland Park, Forest Hills, Van Ness                                                          14\n",
       "Twining, Fairlawn, Randle Highlands, Penn Branch, Fort Davis Park, Fort Dupont                        14\n",
       "Near Southeast, Navy Yard                                                                             12\n",
       "Hawthorne, Barnaby Woods, Chevy Chase                                                                 12\n",
       "Woodridge, Fort Lincoln, Gateway                                                                      10\n",
       "Douglas, Shipley Terrace                                                                               6\n",
       "Capitol View, Marshall Heights, Benning Heights                                                        6\n",
       "Lamont Riggs, Queens Chapel, Fort Totten, Pleasant Hill                                                6\n",
       "Mayfair, Hillbrook, Mahaning Heights                                                                   6\n",
       "Eastland Gardens, Kenilworth                                                                           5\n",
       "River Terrace, Benning, Greenway, Dupont Park                                                          4\n",
       "Sheridan, Barry Farm, Buena Vista                                                                      4\n",
       "Congress Heights, Bellevue, Washington Highlands                                                       3\n",
       "Deanwood, Burrville, Grant Park, Lincoln Heights, Fairmont Heights                                     3\n",
       "Woodland/Fort Stanton, Garfield Heights, Knox Hill                                                     3\n",
       "Fairfax Village, Naylor Gardens, Hillcrest, Summit Park                                                2\n",
       "Name: neighbourhood, dtype: int64"
      ]
     },
     "execution_count": 3,
     "metadata": {},
     "output_type": "execute_result"
    }
   ],
   "source": [
    "df['neighbourhood'].value_counts()"
   ]
  },
  {
   "cell_type": "code",
   "execution_count": 4,
   "metadata": {},
   "outputs": [
    {
     "data": {
      "text/plain": [
       "39"
      ]
     },
     "execution_count": 4,
     "metadata": {},
     "output_type": "execute_result"
    }
   ],
   "source": [
    "df['neighbourhood'].value_counts().size"
   ]
  },
  {
   "cell_type": "markdown",
   "metadata": {},
   "source": [
    "### One hot encoding\n",
    "\n",
    "One hot encoding transforms categorical features to a format that works better with classification and regression algorithms\n",
    "\n",
    "Neighbourhood, Room Type and Cancellation policies are all string values that can be grouped into categories and be represented as numbers\n",
    "\n",
    "To do this we will use a Pandas fuction called *get_dummies*. It expands a column with categorical values into n columns that correspong to the entries in the original column, and the values are 0 or 1 depending on what they originally were.\n",
    "\n",
    "Below we do this for neighourhood, room type and cancellation policy. We also transform instant_bookable column from 't's' and 'f's' to 1's and 0's."
   ]
  },
  {
   "cell_type": "code",
   "execution_count": 5,
   "metadata": {},
   "outputs": [
    {
     "data": {
      "text/html": [
       "<div>\n",
       "<style>\n",
       "    .dataframe thead tr:only-child th {\n",
       "        text-align: right;\n",
       "    }\n",
       "\n",
       "    .dataframe thead th {\n",
       "        text-align: left;\n",
       "    }\n",
       "\n",
       "    .dataframe tbody tr th {\n",
       "        vertical-align: top;\n",
       "    }\n",
       "</style>\n",
       "<table border=\"1\" class=\"dataframe\">\n",
       "  <thead>\n",
       "    <tr style=\"text-align: right;\">\n",
       "      <th></th>\n",
       "      <th>instant_f</th>\n",
       "      <th>instant_t</th>\n",
       "    </tr>\n",
       "  </thead>\n",
       "  <tbody>\n",
       "    <tr>\n",
       "      <th>0</th>\n",
       "      <td>0</td>\n",
       "      <td>1</td>\n",
       "    </tr>\n",
       "    <tr>\n",
       "      <th>1</th>\n",
       "      <td>0</td>\n",
       "      <td>1</td>\n",
       "    </tr>\n",
       "    <tr>\n",
       "      <th>2</th>\n",
       "      <td>1</td>\n",
       "      <td>0</td>\n",
       "    </tr>\n",
       "    <tr>\n",
       "      <th>3</th>\n",
       "      <td>0</td>\n",
       "      <td>1</td>\n",
       "    </tr>\n",
       "    <tr>\n",
       "      <th>4</th>\n",
       "      <td>1</td>\n",
       "      <td>0</td>\n",
       "    </tr>\n",
       "  </tbody>\n",
       "</table>\n",
       "</div>"
      ],
      "text/plain": [
       "   instant_f  instant_t\n",
       "0          0          1\n",
       "1          0          1\n",
       "2          1          0\n",
       "3          0          1\n",
       "4          1          0"
      ]
     },
     "execution_count": 5,
     "metadata": {},
     "output_type": "execute_result"
    }
   ],
   "source": [
    "# Create one hot encoded columns from original column values\n",
    "n_dummies = pd.get_dummies(df.neighbourhood)\n",
    "rt_dummies = pd.get_dummies(df.room_type)\n",
    "xcl_dummies = pd.get_dummies(df.cancellation_policy)\n",
    "\n",
    "# convert boolean column to a single boolean value 1 or 0\n",
    "ib_dummies = pd.get_dummies(df.instant_bookable, prefix=\"instant\")\n",
    "\n",
    "ib_dummies.head()"
   ]
  },
  {
   "cell_type": "code",
   "execution_count": 6,
   "metadata": {
    "collapsed": true
   },
   "outputs": [],
   "source": [
    "#the above line will create 2 columns, one for t and one for f, so we drop f\n",
    "ib_dummies = ib_dummies.drop('instant_f', axis=1) \n",
    "\n",
    "# replace the old columns with our new one-hot encoded ones\n",
    "alldata = pd.concat((df.drop(['neighbourhood', \\\n",
    "    'room_type', 'cancellation_policy', 'instant_bookable'], axis=1), \\\n",
    "    n_dummies.astype(int), rt_dummies.astype(int), \\\n",
    "    xcl_dummies.astype(int), ib_dummies.astype(int)), \\\n",
    "    axis=1)"
   ]
  },
  {
   "cell_type": "code",
   "execution_count": 7,
   "metadata": {},
   "outputs": [
    {
     "data": {
      "text/html": [
       "<div>\n",
       "<style>\n",
       "    .dataframe thead tr:only-child th {\n",
       "        text-align: right;\n",
       "    }\n",
       "\n",
       "    .dataframe thead th {\n",
       "        text-align: left;\n",
       "    }\n",
       "\n",
       "    .dataframe tbody tr th {\n",
       "        vertical-align: top;\n",
       "    }\n",
       "</style>\n",
       "<table border=\"1\" class=\"dataframe\">\n",
       "  <thead>\n",
       "    <tr style=\"text-align: right;\">\n",
       "      <th></th>\n",
       "      <th>accommodates</th>\n",
       "      <th>bedrooms</th>\n",
       "      <th>beds</th>\n",
       "      <th>price</th>\n",
       "      <th>availability_30</th>\n",
       "      <th>number_of_reviews</th>\n",
       "      <th>review_scores_rating</th>\n",
       "      <th>reviews_per_month</th>\n",
       "      <th>Brightwood Park, Crestwood, Petworth</th>\n",
       "      <th>Brookland, Brentwood, Langdon</th>\n",
       "      <th>...</th>\n",
       "      <th>Woodland/Fort Stanton, Garfield Heights, Knox Hill</th>\n",
       "      <th>Woodridge, Fort Lincoln, Gateway</th>\n",
       "      <th>Entire home/apt</th>\n",
       "      <th>Private room</th>\n",
       "      <th>Shared room</th>\n",
       "      <th>flexible</th>\n",
       "      <th>moderate</th>\n",
       "      <th>strict</th>\n",
       "      <th>super_strict_30</th>\n",
       "      <th>instant_t</th>\n",
       "    </tr>\n",
       "  </thead>\n",
       "  <tbody>\n",
       "    <tr>\n",
       "      <th>0</th>\n",
       "      <td>2</td>\n",
       "      <td>1</td>\n",
       "      <td>1</td>\n",
       "      <td>38</td>\n",
       "      <td>25</td>\n",
       "      <td>1</td>\n",
       "      <td>100</td>\n",
       "      <td>1.00</td>\n",
       "      <td>0</td>\n",
       "      <td>0</td>\n",
       "      <td>...</td>\n",
       "      <td>0</td>\n",
       "      <td>0</td>\n",
       "      <td>0</td>\n",
       "      <td>1</td>\n",
       "      <td>0</td>\n",
       "      <td>0</td>\n",
       "      <td>1</td>\n",
       "      <td>0</td>\n",
       "      <td>0</td>\n",
       "      <td>1</td>\n",
       "    </tr>\n",
       "    <tr>\n",
       "      <th>1</th>\n",
       "      <td>2</td>\n",
       "      <td>1</td>\n",
       "      <td>1</td>\n",
       "      <td>71</td>\n",
       "      <td>17</td>\n",
       "      <td>4</td>\n",
       "      <td>90</td>\n",
       "      <td>0.33</td>\n",
       "      <td>0</td>\n",
       "      <td>0</td>\n",
       "      <td>...</td>\n",
       "      <td>0</td>\n",
       "      <td>0</td>\n",
       "      <td>0</td>\n",
       "      <td>1</td>\n",
       "      <td>0</td>\n",
       "      <td>1</td>\n",
       "      <td>0</td>\n",
       "      <td>0</td>\n",
       "      <td>0</td>\n",
       "      <td>1</td>\n",
       "    </tr>\n",
       "    <tr>\n",
       "      <th>2</th>\n",
       "      <td>1</td>\n",
       "      <td>1</td>\n",
       "      <td>1</td>\n",
       "      <td>55</td>\n",
       "      <td>0</td>\n",
       "      <td>1</td>\n",
       "      <td>100</td>\n",
       "      <td>1.00</td>\n",
       "      <td>0</td>\n",
       "      <td>0</td>\n",
       "      <td>...</td>\n",
       "      <td>0</td>\n",
       "      <td>0</td>\n",
       "      <td>1</td>\n",
       "      <td>0</td>\n",
       "      <td>0</td>\n",
       "      <td>0</td>\n",
       "      <td>0</td>\n",
       "      <td>1</td>\n",
       "      <td>0</td>\n",
       "      <td>0</td>\n",
       "    </tr>\n",
       "    <tr>\n",
       "      <th>3</th>\n",
       "      <td>2</td>\n",
       "      <td>1</td>\n",
       "      <td>1</td>\n",
       "      <td>60</td>\n",
       "      <td>26</td>\n",
       "      <td>2</td>\n",
       "      <td>90</td>\n",
       "      <td>0.43</td>\n",
       "      <td>0</td>\n",
       "      <td>0</td>\n",
       "      <td>...</td>\n",
       "      <td>0</td>\n",
       "      <td>0</td>\n",
       "      <td>0</td>\n",
       "      <td>1</td>\n",
       "      <td>0</td>\n",
       "      <td>1</td>\n",
       "      <td>0</td>\n",
       "      <td>0</td>\n",
       "      <td>0</td>\n",
       "      <td>1</td>\n",
       "    </tr>\n",
       "    <tr>\n",
       "      <th>4</th>\n",
       "      <td>2</td>\n",
       "      <td>1</td>\n",
       "      <td>1</td>\n",
       "      <td>52</td>\n",
       "      <td>24</td>\n",
       "      <td>1</td>\n",
       "      <td>80</td>\n",
       "      <td>1.00</td>\n",
       "      <td>0</td>\n",
       "      <td>0</td>\n",
       "      <td>...</td>\n",
       "      <td>0</td>\n",
       "      <td>1</td>\n",
       "      <td>0</td>\n",
       "      <td>1</td>\n",
       "      <td>0</td>\n",
       "      <td>1</td>\n",
       "      <td>0</td>\n",
       "      <td>0</td>\n",
       "      <td>0</td>\n",
       "      <td>0</td>\n",
       "    </tr>\n",
       "  </tbody>\n",
       "</table>\n",
       "<p>5 rows × 55 columns</p>\n",
       "</div>"
      ],
      "text/plain": [
       "   accommodates  bedrooms  beds  price  availability_30  number_of_reviews  \\\n",
       "0             2         1     1     38               25                  1   \n",
       "1             2         1     1     71               17                  4   \n",
       "2             1         1     1     55                0                  1   \n",
       "3             2         1     1     60               26                  2   \n",
       "4             2         1     1     52               24                  1   \n",
       "\n",
       "   review_scores_rating  reviews_per_month  \\\n",
       "0                   100               1.00   \n",
       "1                    90               0.33   \n",
       "2                   100               1.00   \n",
       "3                    90               0.43   \n",
       "4                    80               1.00   \n",
       "\n",
       "   Brightwood Park, Crestwood, Petworth  Brookland, Brentwood, Langdon  \\\n",
       "0                                     0                              0   \n",
       "1                                     0                              0   \n",
       "2                                     0                              0   \n",
       "3                                     0                              0   \n",
       "4                                     0                              0   \n",
       "\n",
       "     ...      Woodland/Fort Stanton, Garfield Heights, Knox Hill  \\\n",
       "0    ...                                                      0    \n",
       "1    ...                                                      0    \n",
       "2    ...                                                      0    \n",
       "3    ...                                                      0    \n",
       "4    ...                                                      0    \n",
       "\n",
       "   Woodridge, Fort Lincoln, Gateway  Entire home/apt  Private room  \\\n",
       "0                                 0                0             1   \n",
       "1                                 0                0             1   \n",
       "2                                 0                1             0   \n",
       "3                                 0                0             1   \n",
       "4                                 1                0             1   \n",
       "\n",
       "   Shared room  flexible  moderate  strict  super_strict_30  instant_t  \n",
       "0            0         0         1       0                0          1  \n",
       "1            0         1         0       0                0          1  \n",
       "2            0         0         0       1                0          0  \n",
       "3            0         1         0       0                0          1  \n",
       "4            0         1         0       0                0          0  \n",
       "\n",
       "[5 rows x 55 columns]"
      ]
     },
     "execution_count": 7,
     "metadata": {},
     "output_type": "execute_result"
    }
   ],
   "source": [
    "#Look at transformed dataframe:\n",
    "alldata.head()"
   ]
  },
  {
   "cell_type": "markdown",
   "metadata": {},
   "source": [
    "### Training and Test split\n",
    "\n",
    "We split our data into traning and test data so that we can traing our model on training data and evaluate the performance of our model on the test data - data it has never seen before. \n",
    "\n",
    "Therefore we can identify if the model is *overfitting* (low training error and high test error) and if it *generalizes* well (low training and test error).\n",
    "\n",
    "To do this we use sklearns train_test_split model which will randomly separate the data into two dataframes - training and test."
   ]
  },
  {
   "cell_type": "code",
   "execution_count": 8,
   "metadata": {
    "collapsed": true
   },
   "outputs": [],
   "source": [
    "#Split data into features (X) and labels (y)\n",
    "x = alldata.drop(['price'], axis=1).values\n",
    "y = alldata['price']\n",
    "\n",
    "#Split x and y further into training and test sets\n",
    "X_train, X_test, y_train, y_test = train_test_split(x,y, test_size =0.2)"
   ]
  },
  {
   "cell_type": "markdown",
   "metadata": {},
   "source": [
    "### Create  & train the model\n",
    "\n",
    "Now we will create our Model. As this is a regression problem we will be using a Linear Regression model which is one of the simplest models. It fits a linear model to the data set by adjusting a set of parameters in order to make the error as small as possible."
   ]
  },
  {
   "cell_type": "code",
   "execution_count": 9,
   "metadata": {},
   "outputs": [
    {
     "data": {
      "text/plain": [
       "LinearRegression(copy_X=True, fit_intercept=True, n_jobs=1, normalize=False)"
      ]
     },
     "execution_count": 9,
     "metadata": {},
     "output_type": "execute_result"
    }
   ],
   "source": [
    "#Create model\n",
    "lm = LinearRegression()\n",
    "\n",
    "#Train it with training data\n",
    "lm.fit(X_train, y_train)"
   ]
  },
  {
   "cell_type": "code",
   "execution_count": 10,
   "metadata": {},
   "outputs": [
    {
     "data": {
      "text/plain": [
       "array([  6.55995509e+00,   2.22159124e+13,   4.07167405e-01,\n",
       "         8.61791898e-01,   3.82698676e-02,   5.08193644e-01,\n",
       "        -2.91059252e+00,  -9.27278389e+09,  -9.27278389e+09,\n",
       "        -9.27278386e+09,  -9.27278391e+09,  -9.27278388e+09,\n",
       "        -9.27278387e+09,  -9.27278390e+09,  -9.27278388e+09,\n",
       "        -9.27278387e+09,  -9.27278392e+09,  -9.27278389e+09,\n",
       "        -9.27278384e+09,  -9.27278386e+09,  -9.27278392e+09,\n",
       "        -9.27278388e+09,  -9.27278393e+09,  -9.27278387e+09,\n",
       "        -9.27278384e+09,  -9.27278388e+09,  -9.27278390e+09,\n",
       "        -9.27278388e+09,  -9.27278389e+09,  -9.27278387e+09,\n",
       "        -9.27278391e+09,  -9.27278389e+09,  -9.27278386e+09,\n",
       "        -9.27278388e+09,  -9.27278389e+09,  -9.27278390e+09,\n",
       "        -9.27278386e+09,  -9.27278387e+09,  -9.27278387e+09,\n",
       "        -9.27278388e+09,  -9.27278391e+09,  -9.27278389e+09,\n",
       "        -9.27278387e+09,  -9.27278385e+09,  -9.27278390e+09,\n",
       "        -9.27278391e+09,   6.80474592e+11,   6.80474592e+11,\n",
       "         6.80474592e+11,  -5.76388672e+10,  -5.76388672e+10,\n",
       "        -5.76388672e+10,  -5.76388671e+10,  -3.03002930e+00])"
      ]
     },
     "execution_count": 10,
     "metadata": {},
     "output_type": "execute_result"
    }
   ],
   "source": [
    "#Look at the weights assigned to each feature\n",
    "#You can see that all of the neighbourhood features have the same weights\n",
    "lm.coef_"
   ]
  },
  {
   "cell_type": "markdown",
   "metadata": {},
   "source": [
    "#### Predict"
   ]
  },
  {
   "cell_type": "code",
   "execution_count": 11,
   "metadata": {
    "collapsed": true
   },
   "outputs": [],
   "source": [
    "# do predictions on training data and test data\n",
    "pred_train = lm.predict(X_train)\n",
    "pred_test = lm.predict(X_test)"
   ]
  },
  {
   "cell_type": "markdown",
   "metadata": {},
   "source": [
    "#### Calcuate Error\n",
    "\n",
    "##### Mean Squared Error & Mean Absoloute Error\n",
    "More information on the difference here: https://medium.com/human-in-a-machine-world/mae-and-rmse-which-metric-is-better-e60ac3bde13d"
   ]
  },
  {
   "cell_type": "code",
   "execution_count": 12,
   "metadata": {},
   "outputs": [
    {
     "data": {
      "text/plain": [
       "30.339101719804546"
      ]
     },
     "execution_count": 12,
     "metadata": {},
     "output_type": "execute_result"
    }
   ],
   "source": [
    "#Training error\n",
    "np.sqrt(np.mean ((y_train - pred_train) **2))"
   ]
  },
  {
   "cell_type": "code",
   "execution_count": 13,
   "metadata": {},
   "outputs": [
    {
     "data": {
      "text/plain": [
       "34.160716589440391"
      ]
     },
     "execution_count": 13,
     "metadata": {},
     "output_type": "execute_result"
    }
   ],
   "source": [
    "#Test Error\n",
    "np.sqrt(np.mean ((y_test - pred_test) **2))\n"
   ]
  },
  {
   "cell_type": "code",
   "execution_count": 14,
   "metadata": {
    "collapsed": true
   },
   "outputs": [],
   "source": [
    "#Can also use sklearn metrics module. \n",
    "train_mse = metrics.mean_squared_error(y_train, pred_train)\n",
    "test_mse = metrics.mean_squared_error(y_test, pred_test)\n",
    "\n",
    "train_rmse = np.sqrt(train_mse)\n",
    "test_rmse = np.sqrt(test_mse)\n",
    "\n",
    "#Lets try mean absoloute error too\n",
    "train_mae = metrics.median_absolute_error(y_train, pred_train)\n",
    "test_mae = metrics.median_absolute_error(y_test, pred_test)"
   ]
  },
  {
   "cell_type": "code",
   "execution_count": 15,
   "metadata": {},
   "outputs": [
    {
     "data": {
      "text/plain": [
       "30.339101719804546"
      ]
     },
     "execution_count": 15,
     "metadata": {},
     "output_type": "execute_result"
    }
   ],
   "source": [
    "train_rmse"
   ]
  },
  {
   "cell_type": "code",
   "execution_count": 16,
   "metadata": {},
   "outputs": [
    {
     "data": {
      "text/plain": [
       "16.453125"
      ]
     },
     "execution_count": 16,
     "metadata": {},
     "output_type": "execute_result"
    }
   ],
   "source": [
    "train_mae"
   ]
  },
  {
   "cell_type": "markdown",
   "metadata": {},
   "source": [
    "## Decision Tree Model"
   ]
  },
  {
   "cell_type": "code",
   "execution_count": 17,
   "metadata": {},
   "outputs": [
    {
     "data": {
      "text/plain": [
       "DecisionTreeRegressor(criterion='mse', max_depth=None, max_features=None,\n",
       "           max_leaf_nodes=None, min_impurity_split=1e-07,\n",
       "           min_samples_leaf=1, min_samples_split=2,\n",
       "           min_weight_fraction_leaf=0.0, presort=False, random_state=None,\n",
       "           splitter='best')"
      ]
     },
     "execution_count": 17,
     "metadata": {},
     "output_type": "execute_result"
    }
   ],
   "source": [
    "from sklearn.tree import DecisionTreeRegressor\n",
    "\n",
    "dt = DecisionTreeRegressor()\n",
    "dt.fit(X_train, y_train)"
   ]
  },
  {
   "cell_type": "markdown",
   "metadata": {},
   "source": [
    "#### Predict"
   ]
  },
  {
   "cell_type": "code",
   "execution_count": 18,
   "metadata": {
    "collapsed": true
   },
   "outputs": [],
   "source": [
    "dt_pred_train = dt.predict(X_train)\n",
    "dt_pred_test = dt.predict(X_test)"
   ]
  },
  {
   "cell_type": "markdown",
   "metadata": {},
   "source": [
    "#### Calcuate Error"
   ]
  },
  {
   "cell_type": "code",
   "execution_count": 19,
   "metadata": {
    "collapsed": true
   },
   "outputs": [],
   "source": [
    "dt_train_mse = metrics.mean_squared_error(y_train, dt_pred_train)\n",
    "dt_test_mse = metrics.mean_squared_error(y_test, dt_pred_test)\n",
    "\n",
    "dt_train_rmse = np.sqrt(dt_train_mse)\n",
    "dt_test_rmse = np.sqrt(dt_test_mse)"
   ]
  },
  {
   "cell_type": "code",
   "execution_count": 20,
   "metadata": {},
   "outputs": [
    {
     "data": {
      "text/plain": [
       "0.44374814180854677"
      ]
     },
     "execution_count": 20,
     "metadata": {},
     "output_type": "execute_result"
    }
   ],
   "source": [
    "dt_train_rmse"
   ]
  },
  {
   "cell_type": "code",
   "execution_count": 21,
   "metadata": {},
   "outputs": [
    {
     "data": {
      "text/plain": [
       "49.507734174298946"
      ]
     },
     "execution_count": 21,
     "metadata": {},
     "output_type": "execute_result"
    }
   ],
   "source": [
    "dt_test_rmse"
   ]
  },
  {
   "cell_type": "markdown",
   "metadata": {},
   "source": [
    "#### Predict value from test set"
   ]
  },
  {
   "cell_type": "code",
   "execution_count": 22,
   "metadata": {},
   "outputs": [
    {
     "data": {
      "text/plain": [
       "array([  4.  ,   1.  ,   2.  ,  26.  ,  29.  ,  99.  ,   2.45,   0.  ,\n",
       "         0.  ,   0.  ,   0.  ,   0.  ,   0.  ,   0.  ,   0.  ,   0.  ,\n",
       "         0.  ,   0.  ,   0.  ,   0.  ,   0.  ,   1.  ,   0.  ,   0.  ,\n",
       "         0.  ,   0.  ,   0.  ,   0.  ,   0.  ,   0.  ,   0.  ,   0.  ,\n",
       "         0.  ,   0.  ,   0.  ,   0.  ,   0.  ,   0.  ,   0.  ,   0.  ,\n",
       "         0.  ,   0.  ,   0.  ,   0.  ,   0.  ,   0.  ,   1.  ,   0.  ,\n",
       "         0.  ,   0.  ,   0.  ,   1.  ,   0.  ,   0.  ])"
      ]
     },
     "execution_count": 22,
     "metadata": {},
     "output_type": "execute_result"
    }
   ],
   "source": [
    "X_test[20]"
   ]
  },
  {
   "cell_type": "code",
   "execution_count": 23,
   "metadata": {
    "scrolled": true
   },
   "outputs": [
    {
     "data": {
      "text/plain": [
       "1480    175\n",
       "Name: price, dtype: int64"
      ]
     },
     "execution_count": 23,
     "metadata": {},
     "output_type": "execute_result"
    }
   ],
   "source": [
    "#Look at actual value\n",
    "y_test[20:21]"
   ]
  },
  {
   "cell_type": "code",
   "execution_count": 24,
   "metadata": {},
   "outputs": [
    {
     "data": {
      "text/plain": [
       "array([ 141.5546875])"
      ]
     },
     "execution_count": 24,
     "metadata": {},
     "output_type": "execute_result"
    }
   ],
   "source": [
    "lm.predict([X_test[20]])"
   ]
  },
  {
   "cell_type": "code",
   "execution_count": 25,
   "metadata": {},
   "outputs": [
    {
     "data": {
      "text/plain": [
       "array([ 135.])"
      ]
     },
     "execution_count": 25,
     "metadata": {},
     "output_type": "execute_result"
    }
   ],
   "source": [
    "dt.predict([X_test[20]])"
   ]
  }
 ],
 "metadata": {
  "kernelspec": {
   "display_name": "Python 2",
   "language": "python",
   "name": "python2"
  },
  "language_info": {
   "codemirror_mode": {
    "name": "ipython",
    "version": 2
   },
   "file_extension": ".py",
   "mimetype": "text/x-python",
   "name": "python",
   "nbconvert_exporter": "python",
   "pygments_lexer": "ipython2",
   "version": "2.7.13"
  }
 },
 "nbformat": 4,
 "nbformat_minor": 2
}
